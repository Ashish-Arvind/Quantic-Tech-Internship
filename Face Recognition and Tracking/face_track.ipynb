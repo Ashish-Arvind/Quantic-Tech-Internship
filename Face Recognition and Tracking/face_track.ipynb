{
 "cells": [
  {
   "cell_type": "code",
   "execution_count": 1,
   "id": "7e348fb1-7bf4-4c19-8e8b-d058c24198e9",
   "metadata": {},
   "outputs": [],
   "source": [
    "import cv2\n",
    "import torch\n",
    "from ultralytics import YOLO\n",
    "from deep_sort_realtime.deepsort_tracker import DeepSort\n",
    "from centroid_tracker import CentroidTracker"
   ]
  },
  {
   "cell_type": "code",
   "execution_count": 2,
   "id": "5c353147-6ff9-463c-bb1e-aee3971e82a7",
   "metadata": {},
   "outputs": [
    {
     "name": "stderr",
     "output_type": "stream",
     "text": [
      "D:\\Studies\\venvs\\cvprojenv\\Lib\\site-packages\\deep_sort_realtime\\embedder\\embedder_pytorch.py:6: UserWarning: pkg_resources is deprecated as an API. See https://setuptools.pypa.io/en/latest/pkg_resources.html. The pkg_resources package is slated for removal as early as 2025-11-30. Refrain from using this package or pin to Setuptools<81.\n",
      "  import pkg_resources\n"
     ]
    }
   ],
   "source": [
    "model = YOLO(\"yolov8n-face.pt\")\n",
    "\n",
    "centroid_tracker = CentroidTracker()\n",
    "deep_sort_tracker = DeepSort(max_age=30)\n",
    "\n",
    "track_history = {}\n",
    "tracker_mode = \"deepsort\""
   ]
  },
  {
   "cell_type": "code",
   "execution_count": 6,
   "id": "d2edab2c-e2d9-4fbf-882b-c7cb9989fdff",
   "metadata": {},
   "outputs": [
    {
     "name": "stdout",
     "output_type": "stream",
     "text": [
      "Press '1' for Centroid Tracker, '2' for Deep SORT, 'q' or ESC to quit.\n"
     ]
    }
   ],
   "source": [
    "cap = cv2.VideoCapture(0)\n",
    "\n",
    "print(\"Press '1' for Centroid Tracker, '2' for Deep SORT, 'q' or ESC to quit.\")\n",
    "\n",
    "while True:\n",
    "    ret, frame = cap.read()\n",
    "    if not ret:\n",
    "        break\n",
    "\n",
    "    results = model(frame, verbose=False)[0]\n",
    "    rects = []\n",
    "\n",
    "    for box in results.boxes:\n",
    "        x1, y1, x2, y2 = map(int, box.xyxy[0].cpu().numpy())\n",
    "        conf = float(box.conf[0].cpu())\n",
    "        if conf > 0.5:\n",
    "            rects.append((x1, y1, x2, y2))\n",
    "\n",
    "    # Centroid Tracker\n",
    "    if tracker_mode == \"centroid\":\n",
    "        objects = centroid_tracker.update(rects)\n",
    "\n",
    "        for (object_id, centroid) in objects.items():\n",
    "            text = f\"ID {object_id}\"\n",
    "            cv2.circle(frame, tuple(centroid), 4, (0, 255, 0), -1)\n",
    "            cv2.putText(frame, text, (centroid[0] - 10, centroid[1] - 10),\n",
    "                        cv2.FONT_HERSHEY_SIMPLEX, 0.5, (0, 255, 0), 1)\n",
    "\n",
    "        for (x1, y1, x2, y2) in rects:\n",
    "            cv2.rectangle(frame, (x1, y1), (x2, y2), (255, 0, 0), 1)\n",
    "\n",
    "        cv2.putText(frame, \"Mode: Centroid Tracker\", (10, 30),\n",
    "                    cv2.FONT_HERSHEY_SIMPLEX, 0.6, (0, 255, 0), 1)\n",
    "\n",
    "    # Deep SORT\n",
    "    elif tracker_mode == \"deepsort\":\n",
    "        detections = []\n",
    "        for (x1, y1, x2, y2) in rects:\n",
    "            detections.append(([x1, y1, x2 - x1, y2 - y1], 0.99, 'face'))\n",
    "\n",
    "        tracks = deep_sort_tracker.update_tracks(detections, frame=frame)\n",
    "\n",
    "        for track in tracks:\n",
    "            if not track.is_confirmed():\n",
    "                continue\n",
    "\n",
    "            track_id = track.track_id\n",
    "            x1, y1, x2, y2 = map(int, track.to_ltrb())\n",
    "            center = ((x1 + x2) // 2, (y1 + y2) // 2)\n",
    "\n",
    "            # Update history\n",
    "            if track_id not in track_history:\n",
    "                track_history[track_id] = []\n",
    "            track_history[track_id].append(center)\n",
    "            if len(track_history[track_id]) > 20:\n",
    "                track_history[track_id] = track_history[track_id][-20:]\n",
    "\n",
    "            # Draw box and path\n",
    "            cv2.rectangle(frame, (x1, y1), (x2, y2), (0, 255, 255), 2)\n",
    "            cv2.putText(frame, f'ID: {track_id}', (x1, y1 - 10),\n",
    "                        cv2.FONT_HERSHEY_DUPLEX, 0.5, (0, 0, 255), 1)\n",
    "\n",
    "            for i in range(1, len(track_history[track_id])):\n",
    "                cv2.line(frame, track_history[track_id][i - 1],\n",
    "                         track_history[track_id][i], (0, 0, 255), 2)\n",
    "\n",
    "        cv2.putText(frame, \"Mode: Deep SORT\", (10, 30),\n",
    "                    cv2.FONT_HERSHEY_SIMPLEX, 0.6, (0, 0, 255), 1)\n",
    "\n",
    "    cv2.imshow(\"Face Tracker\", frame)\n",
    "\n",
    "    key = cv2.waitKey(1) & 0xFF\n",
    "    if key == ord('1'):\n",
    "        tracker_mode = \"centroid\"\n",
    "    elif key == ord('2'):\n",
    "        tracker_mode = \"deepsort\"\n",
    "    elif key == ord('q') or key == 27:\n",
    "        break\n",
    "\n",
    "cap.release()\n",
    "cv2.destroyAllWindows()"
   ]
  }
 ],
 "metadata": {
  "kernelspec": {
   "display_name": "Python 3 (ipykernel)",
   "language": "python",
   "name": "python3"
  },
  "language_info": {
   "codemirror_mode": {
    "name": "ipython",
    "version": 3
   },
   "file_extension": ".py",
   "mimetype": "text/x-python",
   "name": "python",
   "nbconvert_exporter": "python",
   "pygments_lexer": "ipython3",
   "version": "3.11.9"
  }
 },
 "nbformat": 4,
 "nbformat_minor": 5
}
